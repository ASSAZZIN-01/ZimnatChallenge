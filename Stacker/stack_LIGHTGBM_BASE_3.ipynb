{
  "nbformat": 4,
  "nbformat_minor": 0,
  "metadata": {
    "kernelspec": {
      "display_name": "Python 3",
      "language": "python",
      "name": "python3"
    },
    "language_info": {
      "codemirror_mode": {
        "name": "ipython",
        "version": 3
      },
      "file_extension": ".py",
      "mimetype": "text/x-python",
      "name": "python",
      "nbconvert_exporter": "python",
      "pygments_lexer": "ipython3",
      "version": "3.7.4"
    },
    "toc": {
      "base_numbering": 1,
      "nav_menu": {},
      "number_sections": true,
      "sideBar": true,
      "skip_h1_title": false,
      "title_cell": "Table of Contents",
      "title_sidebar": "Contents",
      "toc_cell": false,
      "toc_position": {},
      "toc_section_display": true,
      "toc_window_display": false
    },
    "colab": {
      "name": "stack_LIGHTGBM_BASE_3.ipynb",
      "provenance": []
    }
  },
  "cells": [
    {
      "cell_type": "code",
      "metadata": {
        "id": "OWgQhrXDnRR6",
        "colab_type": "code",
        "colab": {}
      },
      "source": [
        "import pandas as pd\n",
        "import numpy as np\n",
        "from tqdm import tqdm\n",
        "import copy\n",
        "import gc\n",
        "import warnings\n",
        "warnings.simplefilter('ignore')"
      ],
      "execution_count": 4,
      "outputs": []
    },
    {
      "cell_type": "code",
      "metadata": {
        "id": "QqhfWDed3osi",
        "colab_type": "code",
        "colab": {}
      },
      "source": [
        "from sklearn.preprocessing import LabelEncoder"
      ],
      "execution_count": 5,
      "outputs": []
    },
    {
      "cell_type": "code",
      "metadata": {
        "id": "rSiZ4ZFd3tLl",
        "colab_type": "code",
        "colab": {}
      },
      "source": [
        "train_ = pd.read_csv('Train.csv')\n",
        "test_ = pd.read_csv('Test.csv')\n",
        "submission_ = pd.read_csv('SampleSubmission.csv')"
      ],
      "execution_count": 37,
      "outputs": []
    },
    {
      "cell_type": "code",
      "metadata": {
        "id": "aubxU4qDqBPi",
        "colab_type": "code",
        "colab": {}
      },
      "source": [
        "train_['sum'] = train_[['P5DA', 'RIBP', '8NN1',\n",
        "       '7POT', '66FJ', 'GYSR', 'SOP4', 'RVSZ', 'PYUQ', 'LJR9', 'N2MW', 'AHXO',\n",
        "       'BSTQ', 'FM3X', 'K6QO', 'QBOL', 'JWFN', 'JZ9D', 'J9JW', 'GHYX', 'ECY3']].T.sum()\n",
        "\n",
        "test_['sum'] = test_[['P5DA', 'RIBP', '8NN1',\n",
        "       '7POT', '66FJ', 'GYSR', 'SOP4', 'RVSZ', 'PYUQ', 'LJR9', 'N2MW', 'AHXO',\n",
        "       'BSTQ', 'FM3X', 'K6QO', 'QBOL', 'JWFN', 'JZ9D', 'J9JW', 'GHYX', 'ECY3']].T.sum()+1"
      ],
      "execution_count": 38,
      "outputs": []
    },
    {
      "cell_type": "code",
      "metadata": {
        "id": "DwSbeZlJqX3f",
        "colab_type": "code",
        "colab": {}
      },
      "source": [
        "train_= train_[['sum','ID', 'join_date', 'sex', 'marital_status', 'birth_year', 'branch_code',\n",
        "       'occupation_code', 'occupation_category_code', 'P5DA', 'RIBP', '8NN1',\n",
        "       '7POT', '66FJ', 'GYSR', 'SOP4', 'RVSZ', 'PYUQ', 'LJR9', 'N2MW', 'AHXO',\n",
        "       'BSTQ', 'FM3X', 'K6QO', 'QBOL', 'JWFN', 'JZ9D', 'J9JW', 'GHYX', 'ECY3',\n",
        "       ]]\n",
        "test_= test_[['sum','ID', 'join_date', 'sex', 'marital_status', 'birth_year', 'branch_code',\n",
        "       'occupation_code', 'occupation_category_code', 'P5DA', 'RIBP', '8NN1',\n",
        "       '7POT', '66FJ', 'GYSR', 'SOP4', 'RVSZ', 'PYUQ', 'LJR9', 'N2MW', 'AHXO',\n",
        "       'BSTQ', 'FM3X', 'K6QO', 'QBOL', 'JWFN', 'JZ9D', 'J9JW', 'GHYX', 'ECY3',\n",
        "       ]]"
      ],
      "execution_count": 39,
      "outputs": []
    },
    {
      "cell_type": "code",
      "metadata": {
        "id": "qLiPhI1R3wsn",
        "colab_type": "code",
        "colab": {}
      },
      "source": [
        "from sklearn.model_selection import KFold\n",
        "\n",
        "def get_train_test_names(train_, test_, submission_):\n",
        "  kf = KFold(n_splits=5, shuffle=False)\n",
        "  for r, (train_index, test_index) in enumerate(kf.split(train_)):\n",
        "    test = train_.iloc[test_index]\n",
        "\n",
        "    X_test = []\n",
        "    X_test_columns = test.columns\n",
        "    for v in test.values:\n",
        "      info = v[:9]\n",
        "      binary = v[9:]\n",
        "      index = [k for k, i in enumerate(binary) if i == 1]\n",
        "      for i in index:\n",
        "        for k in range(len(binary)):\n",
        "          if k == i:\n",
        "            binary_transformed = list(copy.copy(binary))\n",
        "            binary_transformed[i] = 0\n",
        "            X_test.append(list(info) + binary_transformed)\n",
        "\n",
        "    X_test = pd.DataFrame(X_test)\n",
        "    X_test.columns = ['sum','ID', 'join_date', 'sex', 'marital_status', 'birth_year', 'branch_code',\n",
        "          'occupation_code', 'occupation_category_code', 'P5DA', 'RIBP', '8NN1',\n",
        "          '7POT', '66FJ', 'GYSR', 'SOP4', 'RVSZ', 'PYUQ', 'LJR9', 'N2MW', 'AHXO',\n",
        "          'BSTQ', 'FM3X', 'K6QO', 'QBOL', 'JWFN', 'JZ9D', 'J9JW', 'GHYX', 'ECY3']\n",
        "\n",
        "    X_test['ID'] = [str(r)+'_'+str(i) for i in range(X_test.shape[0])]\n",
        "\n",
        "    yield train_.iloc[train_index], X_test, submission_, '2_fold' + str(r) + '.csv'\n",
        "  yield train_, test_, submission_, '2_main.csv'"
      ],
      "execution_count": 42,
      "outputs": []
    },
    {
      "cell_type": "code",
      "metadata": {
        "id": "u-6YKKmTKUAK",
        "colab_type": "code",
        "colab": {}
      },
      "source": [
        "def process(df):\n",
        "  \n",
        "  \n",
        "  df['eclapse'] = 2020 - df['date3']\n",
        "  df['IS_748L'] = df['branch_code'] == '748L'\n",
        "  df['IS_748L'] = df['IS_748L'].astype('int')\n",
        "  \n",
        "  df['IS_T4MS'] = df['occupation_category_code'] == 'T4MS'\n",
        "  df['IS_T4MS'] = df['IS_T4MS'].astype('int')\n",
        "  \n",
        "  df['IS_RVSZ'] = df['PCODE'].apply(lambda x : 1 if x=='RVSZ' else 0 )\n",
        "  df['IS_K6QO'] = df['PCODE'].apply(lambda x : 1 if x=='K6QO' else 0 )\n",
        "\n",
        "  df['IS_RVSZ'] = df['PCODE'].apply(lambda x : 1 if x=='RVSZ' else 0 )\n",
        "  df['IS_K6QO'] = df['PCODE'].apply(lambda x : 1 if x=='K6QO' else 0 )\n",
        "  df['IS_M'] = df['marital_status'].apply(lambda x : 1 if x=='M' else 0 )\n",
        "  df['current_age'] = np.abs(2020 - df['birth_year'])\n",
        "  \n",
        "\n",
        "\n",
        "  return df"
      ],
      "execution_count": 43,
      "outputs": []
    },
    {
      "cell_type": "code",
      "metadata": {
        "id": "9i9YkcPt37v9",
        "colab_type": "code",
        "colab": {
          "base_uri": "https://localhost:8080/",
          "height": 731
        },
        "outputId": "0f662d31-2f99-4129-df16-fc07a363bddf"
      },
      "source": [
        "for train, test, submission, name in get_train_test_names(train_, test_, submission_):\n",
        "  print(40* '=')\n",
        "  i = 1 \n",
        "  print(f'{i} / 5')\n",
        "  true_values = []\n",
        "  for v in test.values:\n",
        "    binary = v[9:]\n",
        "    index = [k for k, i in enumerate(binary) if i == 1]\n",
        "    for k in test.columns[9:][index]:\n",
        "      true_values.append(v[1] + ' X ' + k)\n",
        "\n",
        "  #Store Products ID in Multidimensional array\n",
        "  products =train[['P5DA', 'RIBP', '8NN1',\n",
        "        '7POT', '66FJ', 'GYSR', 'SOP4', 'RVSZ', 'PYUQ', 'LJR9', 'N2MW', 'AHXO',\n",
        "        'BSTQ', 'FM3X', 'K6QO', 'QBOL', 'JWFN', 'JZ9D', 'J9JW', 'GHYX', 'ECY3']]\n",
        "  products_t =test[['P5DA', 'RIBP', '8NN1',\n",
        "        '7POT', '66FJ', 'GYSR', 'SOP4', 'RVSZ', 'PYUQ', 'LJR9', 'N2MW', 'AHXO',\n",
        "        'BSTQ', 'FM3X', 'K6QO', 'QBOL', 'JWFN', 'JZ9D', 'J9JW', 'GHYX', 'ECY3']]\n",
        "\n",
        "  #Axis Transformation\n",
        "  train = train.melt(id_vars=train.columns[:9], value_vars=products, var_name = \"PCODE\", value_name=\"Label\" )\n",
        "  test = test.melt(id_vars=test.columns[:9], value_vars=products, var_name = \"PCODE\", value_name=\"Label\" )\n",
        "\n",
        "  #A merger\n",
        "  train['combiner']='x'\n",
        "\n",
        "  #Set\n",
        "  data=pd.concat([train,test],sort=False).reset_index(drop=True)\n",
        "\n",
        "  train=data[data.combiner.notnull()].reset_index(drop=True);test=data[data.combiner.isna()].reset_index(drop=True)\n",
        "  train.drop('combiner', inplace=True, axis=1);test.drop(['Label','combiner'], inplace=True, axis=1)\n",
        "\n",
        "  #Concatenate new column towards submission requirement\n",
        "  train['ID X PCODE'] = train['ID'] + ' X ' + train['PCODE'];test['ID X PCODE'] = test['ID'] + ' X ' + test['PCODE']\n",
        "\n",
        "  #Re-arrange column (not necessary)\n",
        "  train=train[['ID', 'join_date', 'sex', 'marital_status', 'birth_year', 'branch_code',\n",
        "        'occupation_code', 'occupation_category_code', 'PCODE','ID X PCODE','sum',  'Label']]\n",
        "  test=test[['ID', 'join_date', 'sex', 'marital_status', 'birth_year', 'branch_code',\n",
        "        'occupation_code', 'occupation_category_code', 'PCODE','ID X PCODE','sum',]]\n",
        "\n",
        "\n",
        "  train['date1'] = train['join_date'].apply(lambda x: int(x.split('/')[0]) if (x == x) else np.nan)\n",
        "  train['date2'] = train['join_date'].apply(lambda x: int(x.split('/')[1]) if (x == x) else np.nan)\n",
        "  train['date3'] = train['join_date'].apply(lambda x: int(x.split('/')[2]) if (x == x) else np.nan)\n",
        "\n",
        "  test['date1'] = test['join_date'].apply(lambda x: int(x.split('/')[0]) if (x == x) else np.nan)\n",
        "  test['date2'] = test['join_date'].apply(lambda x: int(x.split('/')[1]) if (x == x) else np.nan)\n",
        "  test['date3'] = test['join_date'].apply(lambda x: int(x.split('/')[2]) if (x == x) else np.nan)\n",
        "\n",
        "  ## 1 - join date feature engineering \n",
        "  train.join_date = pd.to_datetime(train.join_date, \n",
        "                                  #format=\"%Y/%m%d\"\n",
        "                                  )\n",
        "  test.join_date = pd.to_datetime(test.join_date,\n",
        "                                  #format=\"%Y-%m-%d\"\n",
        "  )\n",
        "  train.join_date = pd.to_datetime(train.join_date, format=\"%Y/%m%d\")\n",
        "  test.join_date = pd.to_datetime(test.join_date, format=\"%Y-%m-%d\")\n",
        "\n",
        "  train['day_of_week'] = train['join_date'].dt.dayofweek\n",
        "  train['day_of_week_name'] = train['join_date'].dt.day_name()\n",
        "  train['age'] = np.abs(train['join_date'].dt.year - train['birth_year'])\n",
        "\n",
        "  test['day_of_week'] = test['join_date'].dt.dayofweek\n",
        "  test['day_of_week_name'] = test['join_date'].dt.day_name()\n",
        "  test['age'] = np.abs( test['join_date'].dt.year - test['birth_year'])\n",
        "\n",
        "  for col in ['sex', 'marital_status', 'branch_code', 'occupation_code', 'occupation_category_code',\n",
        "            'day_of_week_name','join_date'] :\n",
        "        train[col] = train[col].astype('object')\n",
        "        test[col] = test[col].astype('object')\n",
        "\n",
        "  print('Process Train & Test')\n",
        "  train = process(train)\n",
        "  test = process(test)\n",
        "  train['sum']=train['sum'].astype('int64')\n",
        "  test['sum']=test['sum'].astype('int64')\n",
        "  print('---------------------------------------------------------------------------------------------')\n",
        "  print('train shape : ' , train.shape,'test shape : ' , test.shape)\n",
        "  #train shape :  (611772, 24) test shape :  (210000, 23)\n",
        "  print('---------------------------------------------------------------------------------------------')\n",
        "  \n",
        "  #########################################################################################################\n",
        "  param = {\n",
        "    'bagging_freq': 1,\n",
        "    'bagging_fraction': 0.8,\n",
        "    'feature_fraction': 0.9,\n",
        "    'boost_from_average':'false',\n",
        "    'num_leaves': 80,\n",
        "    'boost': 'gbdt',\n",
        "    'learning_rate': 0.05,\n",
        "    'metric':'auc',\n",
        "    'tree_learner': 'serial',\n",
        "    'objective': 'binary',\n",
        "    'random_state': 869,\n",
        "    'n_jobs': -1,\n",
        "    'verbosity': -1\n",
        "  }\n",
        "\n",
        "  fts = [x for x in train.columns if x not in ['IS_748L', 'IS_T4MS', 'IS_33_34_to_38',\n",
        "       'IS_1993_1982_1984_and_T4MS', 'IS_month_4_5_and_T4MS'] +['ID', 'Label', 'ID X PCODE',] ]\n",
        "\n",
        "  from sklearn import preprocessing\n",
        "\n",
        "\n",
        "  for f in ['sex', 'marital_status', 'branch_code', 'occupation_code', 'occupation_category_code','PCODE',\n",
        "            'day_of_week_name','join_date']:\n",
        "      \n",
        "          lbl = preprocessing.LabelEncoder()\n",
        "          lbl.fit(list(train[f].values) + list(test[f].values))\n",
        "          train[f] = lbl.transform(list(train[f].values))\n",
        "          test[f] = lbl.transform(list(test[f].values))   \n",
        "  import lightgbm as lgb\n",
        "\n",
        "  trn_data = lgb.Dataset(train[fts], label=train['Label'] ,\n",
        "                         categorical_feature=['branch_code','occupation_code', 'occupation_category_code'])  \n",
        "  \n",
        "  lgb_model = lgb.train(param, trn_data, 1500,)\n",
        "  print('Start Predicting....')\n",
        "  proba = lgb_model.predict(test[fts],num_iteration=lgb_model.best_iteration)\n",
        "\n",
        "  df_answer = test[['ID X PCODE']]\n",
        "  df_answer['Label'] = proba\n",
        "\n",
        "  df_answer.columns = ['ID X PCODE', 'Label']\n",
        "  for i in range(df_answer.shape[0]):\n",
        "    if df_answer['ID X PCODE'].iloc[i] in true_values:\n",
        "      df_answer['Label'].iloc[i] = 1.0\n",
        "\n",
        "  df_answer.reset_index(drop=True, inplace=True)\n",
        "  df_answer.to_csv(name, index=False)\n",
        "  i+=1"
      ],
      "execution_count": 44,
      "outputs": [
        {
          "output_type": "stream",
          "text": [
            "========================================\n",
            "1 / 5\n",
            "Process Train & Test\n",
            "---------------------------------------------------------------------------------------------\n",
            "train shape :  (489405, 25) test shape :  (279426, 24)\n",
            "---------------------------------------------------------------------------------------------\n",
            "Start Predicting....\n",
            "========================================\n",
            "1 / 5\n",
            "Process Train & Test\n",
            "---------------------------------------------------------------------------------------------\n",
            "train shape :  (489405, 25) test shape :  (277977, 24)\n",
            "---------------------------------------------------------------------------------------------\n",
            "Start Predicting....\n",
            "========================================\n",
            "1 / 5\n",
            "Process Train & Test\n",
            "---------------------------------------------------------------------------------------------\n",
            "train shape :  (489426, 25) test shape :  (276318, 24)\n",
            "---------------------------------------------------------------------------------------------\n",
            "Start Predicting....\n",
            "========================================\n",
            "1 / 5\n",
            "Process Train & Test\n",
            "---------------------------------------------------------------------------------------------\n",
            "train shape :  (489426, 25) test shape :  (279069, 24)\n",
            "---------------------------------------------------------------------------------------------\n",
            "Start Predicting....\n",
            "========================================\n",
            "1 / 5\n",
            "Process Train & Test\n",
            "---------------------------------------------------------------------------------------------\n",
            "train shape :  (489426, 25) test shape :  (280623, 24)\n",
            "---------------------------------------------------------------------------------------------\n",
            "Start Predicting....\n",
            "========================================\n",
            "1 / 5\n",
            "Process Train & Test\n",
            "---------------------------------------------------------------------------------------------\n",
            "train shape :  (611772, 25) test shape :  (210000, 24)\n",
            "---------------------------------------------------------------------------------------------\n",
            "Start Predicting....\n"
          ],
          "name": "stdout"
        }
      ]
    },
    {
      "cell_type": "code",
      "metadata": {
        "id": "kMTqIZkyNPu1",
        "colab_type": "code",
        "colab": {
          "base_uri": "https://localhost:8080/",
          "height": 34
        },
        "outputId": "a2a91806-5d0b-4757-b11f-4596d8bbc653"
      },
      "source": [
        "from google.colab import drive\n",
        "drive.mount('/content/drive')"
      ],
      "execution_count": 45,
      "outputs": [
        {
          "output_type": "stream",
          "text": [
            "Mounted at /content/drive\n"
          ],
          "name": "stdout"
        }
      ]
    },
    {
      "cell_type": "code",
      "metadata": {
        "id": "psfs2Uqlu5uN",
        "colab_type": "code",
        "colab": {}
      },
      "source": [
        "!mkdir '/content/drive/My Drive/Zimnat/stack_LIGHTGBM_BASE_3'"
      ],
      "execution_count": 46,
      "outputs": []
    },
    {
      "cell_type": "code",
      "metadata": {
        "id": "WCXQuN7dNOJ3",
        "colab_type": "code",
        "colab": {}
      },
      "source": [
        "!cp 2_fold0.csv '/content/drive/My Drive/Zimnat/stack_LIGHTGBM_BASE_3'\n",
        "!cp 2_fold1.csv '/content/drive/My Drive/Zimnat/stack_LIGHTGBM_BASE_3'\n",
        "!cp 2_fold2.csv '/content/drive/My Drive/Zimnat/stack_LIGHTGBM_BASE_3'\n",
        "!cp 2_fold3.csv '/content/drive/My Drive/Zimnat/stack_LIGHTGBM_BASE_3'\n",
        "!cp 2_fold4.csv '/content/drive/My Drive/Zimnat/stack_LIGHTGBM_BASE_3'\n",
        "!cp 2_main.csv '/content/drive/My Drive/Zimnat/stack_LIGHTGBM_BASE_3'"
      ],
      "execution_count": 47,
      "outputs": []
    }
  ]
}