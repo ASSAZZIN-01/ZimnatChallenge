{
  "nbformat": 4,
  "nbformat_minor": 0,
  "metadata": {
    "colab": {
      "name": "RONNY_Stacker_XGBOOST.ipynb",
      "provenance": [],
      "collapsed_sections": []
    },
    "kernelspec": {
      "name": "python3",
      "display_name": "Python 3"
    }
  },
  "cells": [
    {
      "cell_type": "code",
      "metadata": {
        "id": "KOnYzVBxcT93",
        "colab_type": "code",
        "colab": {}
      },
      "source": [
        "!pip install --upgrade pandas==0.25.3"
      ],
      "execution_count": null,
      "outputs": []
    },
    {
      "cell_type": "code",
      "metadata": {
        "id": "BTJzNnz7qifx",
        "colab_type": "code",
        "colab": {
          "base_uri": "https://localhost:8080/",
          "height": 343
        },
        "outputId": "b738a870-c782-4d09-e0ea-1662e29c353e"
      },
      "source": [
        "!pip install catboost"
      ],
      "execution_count": null,
      "outputs": [
        {
          "output_type": "stream",
          "text": [
            "Collecting catboost\n",
            "\u001b[?25l  Downloading https://files.pythonhosted.org/packages/90/86/c3dcb600b4f9e7584ed90ea9d30a717fb5c0111574675f442c3e7bc19535/catboost-0.24.1-cp36-none-manylinux1_x86_64.whl (66.1MB)\n",
            "\u001b[K     |████████████████████████████████| 66.1MB 66kB/s \n",
            "\u001b[?25hRequirement already satisfied: numpy>=1.16.0 in /usr/local/lib/python3.6/dist-packages (from catboost) (1.18.5)\n",
            "Requirement already satisfied: plotly in /usr/local/lib/python3.6/dist-packages (from catboost) (4.4.1)\n",
            "Requirement already satisfied: scipy in /usr/local/lib/python3.6/dist-packages (from catboost) (1.4.1)\n",
            "Requirement already satisfied: graphviz in /usr/local/lib/python3.6/dist-packages (from catboost) (0.10.1)\n",
            "Requirement already satisfied: matplotlib in /usr/local/lib/python3.6/dist-packages (from catboost) (3.2.2)\n",
            "Requirement already satisfied: six in /usr/local/lib/python3.6/dist-packages (from catboost) (1.15.0)\n",
            "Requirement already satisfied: pandas>=0.24.0 in /usr/local/lib/python3.6/dist-packages (from catboost) (0.25.3)\n",
            "Requirement already satisfied: retrying>=1.3.3 in /usr/local/lib/python3.6/dist-packages (from plotly->catboost) (1.3.3)\n",
            "Requirement already satisfied: python-dateutil>=2.1 in /usr/local/lib/python3.6/dist-packages (from matplotlib->catboost) (2.8.1)\n",
            "Requirement already satisfied: kiwisolver>=1.0.1 in /usr/local/lib/python3.6/dist-packages (from matplotlib->catboost) (1.2.0)\n",
            "Requirement already satisfied: pyparsing!=2.0.4,!=2.1.2,!=2.1.6,>=2.0.1 in /usr/local/lib/python3.6/dist-packages (from matplotlib->catboost) (2.4.7)\n",
            "Requirement already satisfied: cycler>=0.10 in /usr/local/lib/python3.6/dist-packages (from matplotlib->catboost) (0.10.0)\n",
            "Requirement already satisfied: pytz>=2017.2 in /usr/local/lib/python3.6/dist-packages (from pandas>=0.24.0->catboost) (2018.9)\n",
            "Installing collected packages: catboost\n",
            "Successfully installed catboost-0.24.1\n"
          ],
          "name": "stdout"
        }
      ]
    },
    {
      "cell_type": "code",
      "metadata": {
        "id": "3arOHSJwCtNq",
        "colab_type": "code",
        "colab": {}
      },
      "source": [
        "import pandas as pd\n",
        "import numpy as np\n",
        "from tqdm import tqdm\n",
        "import copy"
      ],
      "execution_count": null,
      "outputs": []
    },
    {
      "cell_type": "code",
      "metadata": {
        "id": "S3a3kmo_dFfJ",
        "colab_type": "code",
        "colab": {}
      },
      "source": [
        "#import necessary dependecies\n",
        "import plotly.express as px\n",
        "import seaborn as sns\n",
        "from sklearn.ensemble import RandomForestClassifier, GradientBoostingClassifier,AdaBoostClassifier,ExtraTreesClassifier,VotingClassifier\n",
        " \n",
        "from sklearn.svm import SVC\n",
        "from sklearn.neighbors import KNeighborsClassifier\n",
        "from sklearn.cluster import KMeans\n",
        "import math\n",
        "from sklearn.preprocessing import LabelEncoder\n",
        "from sklearn.pipeline import Pipeline\n",
        "import os\n",
        "import warnings\n",
        "import numpy as np  \n",
        "import seaborn as sns\n",
        "import pandas as pd, os, gc\n",
        "import matplotlib.pyplot as plt\n",
        "from sklearn.metrics import roc_curve, auc, log_loss\n",
        "from sklearn.feature_selection import mutual_info_classif\n",
        "from sklearn.preprocessing import StandardScaler, RobustScaler\n",
        "%matplotlib inline\n",
        "warnings.filterwarnings('ignore')\n",
        "from typing import List\n",
        "import tensorflow as tf\n",
        "import random\n",
        "from tqdm import tqdm \n",
        "import copy\n",
        " \n",
        "tf.random.set_seed(111)\n",
        "np.random.seed(111)\n",
        "random.seed(111)"
      ],
      "execution_count": null,
      "outputs": []
    },
    {
      "cell_type": "code",
      "metadata": {
        "id": "hHXGrWSwdpQp",
        "colab_type": "code",
        "colab": {}
      },
      "source": [
        "from sklearn.multiclass import OneVsRestClassifier,OneVsOneClassifier\n",
        "from sklearn.multioutput import MultiOutputClassifier\n",
        "from sklearn.linear_model import LogisticRegression, RidgeClassifierCV\n",
        "from sklearn.ensemble import RandomForestClassifier,ExtraTreesClassifier,AdaBoostClassifier,GradientBoostingClassifier\n",
        "from sklearn.tree import DecisionTreeClassifier\n",
        "from sklearn.model_selection import GridSearchCV,StratifiedKFold\n",
        "from sklearn.neural_network import MLPClassifier\n",
        "from sklearn.neighbors import KNeighborsClassifier\n",
        "from sklearn.pipeline import Pipeline\n",
        "from sklearn.pipeline import make_pipeline\n",
        "from sklearn.impute import SimpleImputer"
      ],
      "execution_count": null,
      "outputs": []
    },
    {
      "cell_type": "code",
      "metadata": {
        "id": "j4sxXpQoHqFu",
        "colab_type": "code",
        "colab": {}
      },
      "source": [
        "from catboost import CatBoostClassifier\n",
        "from sklearn.preprocessing import LabelEncoder"
      ],
      "execution_count": null,
      "outputs": []
    },
    {
      "cell_type": "code",
      "metadata": {
        "id": "s3ZCXtzKDiDe",
        "colab_type": "code",
        "colab": {}
      },
      "source": [
        "train_ = pd.read_csv('/content/drive/My Drive/ZimnatInsurance/Train.csv')\n",
        "test_ = pd.read_csv('/content/drive/My Drive/ZimnatInsurance/Test.csv')\n",
        "submission_ = pd.read_csv('/content/drive/My Drive/ZimnatInsurance/SampleSubmission.csv')"
      ],
      "execution_count": null,
      "outputs": []
    },
    {
      "cell_type": "code",
      "metadata": {
        "id": "Rx1uOaRsGG2M",
        "colab_type": "code",
        "colab": {}
      },
      "source": [
        "from sklearn.model_selection import KFold,GroupKFold\n",
        "\n",
        "def get_train_test_names(train_, test_, submission_):\n",
        "  kf = KFold(n_splits=5, shuffle=False)\n",
        "  for r, (train_index, test_index) in enumerate(kf.split(train_)):\n",
        "    test = train_.iloc[test_index]\n",
        "\n",
        "    X_test = []\n",
        "    X_test_columns = test.columns\n",
        "    for v in test.values:\n",
        "      info = v[:8]\n",
        "      binary = v[8:]\n",
        "      index = [k for k, i in enumerate(binary) if i == 1]\n",
        "      for i in index:\n",
        "        for k in range(len(binary)):\n",
        "          if k == i:\n",
        "            binary_transformed = list(copy.copy(binary))\n",
        "            binary_transformed[i] = 0\n",
        "            X_test.append(list(info) + binary_transformed)\n",
        "\n",
        "    X_test = pd.DataFrame(X_test)\n",
        "    X_test.columns = ['ID', 'join_date', 'sex', 'marital_status', 'birth_year', 'branch_code',\n",
        "          'occupation_code', 'occupation_category_code', 'P5DA', 'RIBP', '8NN1',\n",
        "          '7POT', '66FJ', 'GYSR', 'SOP4', 'RVSZ', 'PYUQ', 'LJR9', 'N2MW', 'AHXO',\n",
        "          'BSTQ', 'FM3X', 'K6QO', 'QBOL', 'JWFN', 'JZ9D', 'J9JW', 'GHYX', 'ECY3']\n",
        "    X_test['ID'] = [str(r)+'_'+str(i) for i in range(X_test.shape[0])]\n",
        "\n",
        "    yield train_.iloc[train_index], X_test, submission_, '0_fold' + str(r) + '.csv'\n",
        "  yield train_, test_, submission_, '0_main.csv'"
      ],
      "execution_count": null,
      "outputs": []
    },
    {
      "cell_type": "markdown",
      "metadata": {
        "id": "o_ELVeoVgv3v",
        "colab_type": "text"
      },
      "source": [
        "### Get folds"
      ]
    },
    {
      "cell_type": "code",
      "metadata": {
        "id": "oxjj_QAfEyZw",
        "colab_type": "code",
        "colab": {
          "base_uri": "https://localhost:8080/",
          "height": 68
        },
        "outputId": "7eb42f3b-ab2b-4257-93db-4095fed84263"
      },
      "source": [
        "for train, test, submission, name in get_train_test_names(train_, test_, submission_):\n",
        "  X_train = []\n",
        "  X_train_columns = train.columns\n",
        "  c = 0\n",
        "  for v in train.values:\n",
        "    info = v[:8]\n",
        "    binary = v[8:]\n",
        "    index = [k for k, i in enumerate(binary) if i == 1]\n",
        "    for i in index:\n",
        "      c+=1\n",
        "      for k in range(len(binary)):\n",
        "        if k == i:\n",
        "          binary_transformed = list(copy.copy(binary))\n",
        "          binary_transformed[i] = 0\n",
        "          X_train.append(list(info) + binary_transformed + [X_train_columns[8+k]] + [c])\n",
        "\n",
        "  X_train = pd.DataFrame(X_train)\n",
        "  X_train.columns = ['ID', 'join_date', 'sex', 'marital_status', 'birth_year', 'branch_code',\n",
        "        'occupation_code', 'occupation_category_code', 'P5DA', 'RIBP', '8NN1',\n",
        "        '7POT', '66FJ', 'GYSR', 'SOP4', 'RVSZ', 'PYUQ', 'LJR9', 'N2MW', 'AHXO',\n",
        "        'BSTQ', 'FM3X', 'K6QO', 'QBOL', 'JWFN', 'JZ9D', 'J9JW', 'GHYX', 'ECY3', 'product_pred', 'ID2']\n",
        "\n",
        "\n",
        "  X_test = []\n",
        "  true_values = []\n",
        "  c = 0\n",
        "  for v in test.values:\n",
        "    c += 1\n",
        "    info = v[:8]\n",
        "    binary = v[8:]\n",
        "    index = [k for k, i in enumerate(binary) if i == 1]\n",
        "    X_test.append(list(info) + list(binary) + [c])\n",
        "    for k in test.columns[8:][index]:\n",
        "      true_values.append(v[0] + ' X ' + k)\n",
        "\n",
        "  X_test = pd.DataFrame(X_test)\n",
        "  X_test.columns = ['ID', 'join_date', 'sex', 'marital_status', 'birth_year', 'branch_code',\n",
        "        'occupation_code', 'occupation_category_code', 'P5DA', 'RIBP', '8NN1',\n",
        "        '7POT', '66FJ', 'GYSR', 'SOP4', 'RVSZ', 'PYUQ', 'LJR9', 'N2MW', 'AHXO',\n",
        "        'BSTQ', 'FM3X', 'K6QO', 'QBOL', 'JWFN', 'JZ9D', 'J9JW', 'GHYX', 'ECY3', 'ID2']\n",
        "\n",
        "\n",
        "  features_train = []\n",
        "  features_test = []\n",
        "  columns = []\n",
        "\n",
        "  append_features = ['P5DA', 'RIBP', '8NN1', '7POT', '66FJ', 'GYSR', 'SOP4', 'RVSZ', 'PYUQ', 'LJR9', \n",
        "  'N2MW', 'AHXO','BSTQ', 'FM3X', 'K6QO', 'QBOL', 'JWFN', 'JZ9D', 'J9JW', 'GHYX', \n",
        "  'ECY3', 'ID', 'ID2', 'join_date', 'sex', 'marital_status', 'branch_code', 'occupation_code', 'occupation_category_code',\n",
        "  'birth_year']\n",
        "  for v in append_features:\n",
        "    features_train.append(X_train[v].values.reshape(-1, 1))\n",
        "    features_test.append(X_test[v].values.reshape(-1, 1))\n",
        "    columns.append(np.array([v]))\n",
        "\n",
        "  y_train = X_train[['product_pred']]\n",
        "\n",
        "\n",
        "  features_train = np.concatenate(features_train, axis=1)\n",
        "  features_test = np.concatenate(features_test, axis=1)\n",
        "  columns = np.concatenate(np.array(columns))\n",
        "\n",
        "  X_train = pd.DataFrame(features_train)\n",
        "  X_train.columns = columns\n",
        "  X_test = pd.DataFrame(features_test)\n",
        "  X_test.columns = columns\n",
        "############################## fix code ##############################\n",
        "  X_train.join_date = pd.to_datetime(X_train.join_date,)\n",
        "  X_test.join_date = pd.to_datetime(X_test.join_date,)\n",
        "\n",
        "  X_train.join_date = pd.to_datetime(X_train.join_date, format=\"%Y-%m-%d\")\n",
        "  X_test.join_date = pd.to_datetime(X_test.join_date, format=\"%Y-%m-%d\")\n",
        "\n",
        "  # new features\n",
        "\n",
        "  X_train['day_of_week'] = X_train['join_date'].dt.dayofweek\n",
        "  X_train['day_of_week_name'] = X_train['join_date'].dt.weekday_name\n",
        "  X_train['age'] = np.abs(X_train['join_date'].dt.year - X_train['birth_year'])\n",
        "\n",
        "\n",
        "  X_test['day_of_week'] = X_test['join_date'].dt.dayofweek\n",
        "  X_test['day_of_week_name'] = X_test['join_date'].dt.weekday_name\n",
        "  X_test['age'] = np.abs( X_test['join_date'].dt.year - X_test['birth_year'])\n",
        "\n",
        "  #from catboost import CatBoostClassifier\n",
        "  cat_features = ['branch_code','occupation_code', 'occupation_category_code']\n",
        "        \n",
        "  X_train = X_train.fillna(0)\n",
        "  X_test = X_test.fillna(0)\n",
        "  y_train = y_train.fillna(0)\n",
        "\n",
        "  # LABEL ENCODE\n",
        "  enc = LabelEncoder()\n",
        "  def encode_LE(train,test,cols,verbose=True):\n",
        "    for col in cols:\n",
        "  \n",
        "      df_comb = pd.concat([train[col].astype('str'),test[col].astype('str')],axis=0)\n",
        "      df_comb = enc.fit_transform(df_comb)\n",
        "      nm = col\n",
        "      if df_comb.max()>32000: \n",
        "        train[nm] = df_comb[:len(train)].astype('int32')\n",
        "        test[nm] = df_comb[len(train):].astype('int32')\n",
        "      else:\n",
        "        train[nm] = df_comb[:len(train)].astype('int16')\n",
        "        test[nm] = df_comb[len(train):].astype('int16')\n",
        "      del df_comb; x=gc.collect()\n",
        "      if verbose: print(nm,', ',end='')\n",
        "\n",
        "  X_train.day_of_week_name = X_train.day_of_week_name.astype('str')\n",
        "  X_test.day_of_week_name = X_test.day_of_week_name.astype('str')\n",
        "  X_train.join_date = X_train.join_date.astype('str')\n",
        "  X_test.join_date = X_test.join_date.astype('str')\n",
        "\n",
        "  data = X_train.append(X_test)\n",
        "  for v in ['sex', 'marital_status', 'branch_code', 'occupation_code', 'occupation_category_code','day_of_week_name','join_date']:\n",
        "    data.loc[:,v] = enc.fit_transform(data.loc[:,v])\n",
        "  X_train = data[:X_train.shape[0]]\n",
        "  X_test = data[-X_test.shape[0]:]\n",
        "\n",
        "  enc.fit(y_train.iloc[:,0])\n",
        "  y_train = pd.DataFrame(enc.transform(y_train.iloc[:,0]))\n",
        "  y_train.columns = ['target']\n",
        "\n",
        "  X = X_train.drop(['ID','ID2','birth_year'], axis=1)\n",
        "  test = X_test.drop(['ID','ID2','birth_year'], axis=1)\n",
        "  df_train =X.values\n",
        "  df_test =test.values\n",
        "  y = y_train.target\n",
        "\n",
        "\n",
        "\n",
        "############################### MODELING CODE : PAY attention :) ######################################\n",
        "  import xgboost as xgb\n",
        " \n",
        "  sk = StratifiedKFold(n_splits= 5,random_state=111,shuffle=True)\n",
        "  \n",
        "  gbm = xgb.XGBClassifier(\n",
        "  objective = 'multi:softmax',\n",
        "  base_score = np.mean(y),\n",
        "  eval_metric =\"mlogloss\",\n",
        "  subsample= 0.8,\n",
        "  n_estimators = 2000,\n",
        "  seed= 111,\n",
        "  random_state = 111,\n",
        "  num_class = 21,\n",
        "  )\n",
        "\n",
        "  gbm_predictions = list()\n",
        "\n",
        "  for fold, (train_idx, test_idx) in enumerate(sk.split(df_train,y)):\n",
        "    gbm.fit(\n",
        "        df_train[train_idx],\n",
        "        y[train_idx],\n",
        "        eval_set = [(df_train[test_idx], y[test_idx])],\n",
        "        early_stopping_rounds  = 100,\n",
        "    )\n",
        "    preds = gbm.predict_proba(df_test)\n",
        "    gbm_predictions.append(preds)\n",
        "    \n",
        "  # get preds :D\n",
        "  proba = np.average(gbm_predictions, axis=0)\n",
        "  y_test = pd.DataFrame(proba)\n",
        "  y_test.columns = enc.inverse_transform(y_test.columns)\n",
        "\n",
        "  answer_mass = []\n",
        "  for i in range(X_test.shape[0]):\n",
        "    id = X_test['ID'].iloc[i]\n",
        "    for c in y_test.columns:\n",
        "      answer_mass.append([id + ' X ' + c, y_test[c].iloc[i]])\n",
        "\n",
        "  df_answer = pd.DataFrame(answer_mass)\n",
        "  df_answer.columns = ['ID X PCODE', 'Label']\n",
        "  for i in range(df_answer.shape[0]):\n",
        "    if df_answer['ID X PCODE'].iloc[i] in true_values:\n",
        "      df_answer['Label'].iloc[i] = 1.0\n",
        "\n",
        "  df_answer.reset_index(drop=True, inplace=True)\n",
        "  df_answer.to_csv(name, index=False)"
      ],
      "execution_count": null,
      "outputs": [
        {
          "output_type": "stream",
          "text": [
            "Stopping. Best iteration:\n",
            "[419]\tvalidation_0-mlogloss:0.375489\n",
            "\n"
          ],
          "name": "stdout"
        }
      ]
    },
    {
      "cell_type": "code",
      "metadata": {
        "id": "AZYVQqHigQHa",
        "colab_type": "code",
        "colab": {
          "base_uri": "https://localhost:8080/",
          "height": 54
        },
        "outputId": "42c864c9-e61e-425a-8a23-16bf16267dde"
      },
      "source": [
        "from google.colab import drive\n",
        "drive.mount('/content/drive')"
      ],
      "execution_count": null,
      "outputs": [
        {
          "output_type": "stream",
          "text": [
            "Drive already mounted at /content/drive; to attempt to forcibly remount, call drive.mount(\"/content/drive\", force_remount=True).\n"
          ],
          "name": "stdout"
        }
      ]
    },
    {
      "cell_type": "code",
      "metadata": {
        "id": "-qLuHP0jgQ8P",
        "colab_type": "code",
        "colab": {}
      },
      "source": [
        "!mkdir '/content/drive/My Drive/ZimnatInsurance/Stack_XGBOOST_RONNY'"
      ],
      "execution_count": null,
      "outputs": []
    },
    {
      "cell_type": "code",
      "metadata": {
        "id": "LT2Y7wuWgx6I",
        "colab_type": "code",
        "colab": {}
      },
      "source": [
        "!cp 0_fold0.csv  '/content/drive/My Drive/ZimnatInsurance/Stack_XGBOOST_RONNY' \n",
        "!cp 0_fold1.csv  '/content/drive/My Drive/ZimnatInsurance/Stack_XGBOOST_RONNY' \n",
        "!cp 0_fold2.csv  '/content/drive/My Drive/ZimnatInsurance/Stack_XGBOOST_RONNY' \n",
        "!cp 0_fold3.csv  '/content/drive/My Drive/ZimnatInsurance/Stack_XGBOOST_RONNY' \n",
        "!cp 0_fold4.csv  '/content/drive/My Drive/ZimnatInsurance/Stack_XGBOOST_RONNY' \n",
        "!cp 0_main.csv  '/content/drive/My Drive/ZimnatInsurance/Stack_XGBOOST_RONNY' "
      ],
      "execution_count": null,
      "outputs": []
    }
  ]
}