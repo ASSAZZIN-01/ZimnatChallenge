{
  "nbformat": 4,
  "nbformat_minor": 0,
  "metadata": {
    "colab": {
      "name": "STACK_LGBM_BASELINE_2.ipynb",
      "provenance": []
    },
    "kernelspec": {
      "name": "python3",
      "display_name": "Python 3"
    }
  },
  "cells": [
    {
      "cell_type": "code",
      "metadata": {
        "id": "3arOHSJwCtNq",
        "colab_type": "code",
        "colab": {}
      },
      "source": [
        "import pandas as pd\n",
        "import numpy as np\n",
        "from tqdm import tqdm\n",
        "import copy"
      ],
      "execution_count": 1,
      "outputs": []
    },
    {
      "cell_type": "code",
      "metadata": {
        "id": "ap6qn2DXYGKn",
        "colab_type": "code",
        "colab": {}
      },
      "source": [
        "from sklearn.preprocessing import LabelEncoder\n",
        "import warnings \n",
        "warnings.simplefilter('ignore')"
      ],
      "execution_count": 3,
      "outputs": []
    },
    {
      "cell_type": "code",
      "metadata": {
        "id": "s3ZCXtzKDiDe",
        "colab_type": "code",
        "colab": {}
      },
      "source": [
        "train_ = pd.read_csv('Train.csv')\n",
        "test_ = pd.read_csv('Test.csv')\n",
        "submission_ = pd.read_csv('SampleSubmission.csv')"
      ],
      "execution_count": 4,
      "outputs": []
    },
    {
      "cell_type": "code",
      "metadata": {
        "id": "mcl5aCXtYKgw",
        "colab_type": "code",
        "colab": {}
      },
      "source": [
        "from sklearn.model_selection import KFold\n",
        "\n",
        "def get_train_test_names(train_, test_, submission_):\n",
        "  kf = KFold(n_splits=5, shuffle=False)\n",
        "  for r, (train_index, test_index) in enumerate(kf.split(train_)):\n",
        "    test = train_.iloc[test_index]\n",
        "\n",
        "    X_test = []\n",
        "    X_test_columns = test.columns\n",
        "    for v in test.values:\n",
        "      info = v[:8]\n",
        "      binary = v[8:]\n",
        "      index = [k for k, i in enumerate(binary) if i == 1]\n",
        "      for i in index:\n",
        "        for k in range(len(binary)):\n",
        "          if k == i:\n",
        "            binary_transformed = list(copy.copy(binary))\n",
        "            binary_transformed[i] = 0\n",
        "            X_test.append(list(info) + binary_transformed)\n",
        "\n",
        "    X_test = pd.DataFrame(X_test)\n",
        "    X_test.columns = ['ID', 'join_date', 'sex', 'marital_status', 'birth_year', 'branch_code',\n",
        "          'occupation_code', 'occupation_category_code', 'P5DA', 'RIBP', '8NN1',\n",
        "          '7POT', '66FJ', 'GYSR', 'SOP4', 'RVSZ', 'PYUQ', 'LJR9', 'N2MW', 'AHXO',\n",
        "          'BSTQ', 'FM3X', 'K6QO', 'QBOL', 'JWFN', 'JZ9D', 'J9JW', 'GHYX', 'ECY3']\n",
        "\n",
        "    X_test['ID'] = [str(r)+'_'+str(i) for i in range(X_test.shape[0])]\n",
        "\n",
        "    yield train_.iloc[train_index], X_test, submission_, '1_fold' + str(r) + '.csv'\n",
        "  yield train_, test_, submission_, '1_main.csv'"
      ],
      "execution_count": 5,
      "outputs": []
    },
    {
      "cell_type": "code",
      "metadata": {
        "id": "OGYTQ-LYt6-j",
        "colab_type": "code",
        "colab": {}
      },
      "source": [
        "def process(df):\n",
        "  \n",
        "  df['date1']=df['date1'].fillna(0).astype('int')\n",
        "  df['date2']=df['date2'].fillna(0).astype('int')\n",
        "  df['date3'] =df['date3'].fillna(0).astype('int')\n",
        "  df['eclapse'] = 2020 - df['date3']\n",
        "  df['IS_748L'] = df['branch_code'] == '748L'\n",
        "  df['IS_748L'] = df['IS_748L'].astype('int')\n",
        "  \n",
        "  df['IS_T4MS'] = df['occupation_category_code'] == 'T4MS'\n",
        "  df['IS_T4MS'] = df['IS_T4MS'].astype('int')\n",
        "  \n",
        "  df['IS_RVSZ'] = df['product_pred'].apply(lambda x : 1 if x=='RVSZ' else 0 )\n",
        "  df['IS_K6QO'] = df['product_pred'].apply(lambda x : 1 if x=='K6QO' else 0 )\n",
        "\n",
        "  df['IS_RVSZ'] = df['product_pred'].apply(lambda x : 1 if x=='RVSZ' else 0 )\n",
        "  df['IS_K6QO'] = df['product_pred'].apply(lambda x : 1 if x=='K6QO' else 0 )\n",
        "  df['IS_M'] = df['marital_status'].apply(lambda x : 1 if x=='M' else 0 )\n",
        "  \n",
        "  df['current_age'] = np.abs(2020 - df['birth_year'])\n",
        "\n",
        "\n",
        "  return df"
      ],
      "execution_count": 6,
      "outputs": []
    },
    {
      "cell_type": "markdown",
      "metadata": {
        "id": "TufkmcXsYM9o",
        "colab_type": "text"
      },
      "source": [
        "### Get folds"
      ]
    },
    {
      "cell_type": "code",
      "metadata": {
        "id": "tW6YeSATu3O7",
        "colab_type": "code",
        "colab": {}
      },
      "source": [
        "param = {\n",
        "      'bagging_freq': 1,\n",
        "      'bagging_fraction': 0.8,\n",
        "      'feature_fraction': 0.9,\n",
        "      'boost_from_average':'false',\n",
        "      'num_leaves': 80,\n",
        "      'boost': 'gbdt',\n",
        "      'learning_rate': 0.05,\n",
        "      'metric':'auc',\n",
        "      'tree_learner': 'serial',\n",
        "      'objective': 'binary',\n",
        "      'random_state': 869,\n",
        "      'n_jobs': -1,\n",
        "      'verbosity': -1\n",
        "  }"
      ],
      "execution_count": 7,
      "outputs": []
    },
    {
      "cell_type": "code",
      "metadata": {
        "id": "RLpJtQ7iYujP",
        "colab_type": "code",
        "colab": {
          "base_uri": "https://localhost:8080/",
          "height": 935
        },
        "outputId": "6a433330-50b6-4037-bad7-4a2e7e7a70fd"
      },
      "source": [
        "for train, test, submission, name in get_train_test_names(train_, test_, submission_):\n",
        "  i = 1 \n",
        "\n",
        "  print(40* '=')\n",
        "  print(f' FOLD {i} / 5 ')\n",
        "  i += 1\n",
        "  np_data = []\n",
        "  train_columns = train.columns\n",
        "  for v in tqdm(train.values):\n",
        "    info = v[:8]\n",
        "    binary = v[8:]\n",
        "    index_n = [k for k, i in enumerate(binary) if i == 1]\n",
        "    for i in index_n:\n",
        "      for k in range(len(binary)):\n",
        "        if (k not in index_n) or (k == i):\n",
        "          binary_0 = list(copy.copy(binary))\n",
        "          binary_0[i] = 0\n",
        "          if k == i:\n",
        "            np_data.append(list(info) + binary_0 + [train_columns[8+k]] + [1])\n",
        "          else:\n",
        "            np_data.append(list(info) + binary_0 + [train_columns[8+k]] + [0])\n",
        "\n",
        "  df_data = pd.DataFrame(np_data)\n",
        "  df_data.columns = ['ID', 'join_date', 'sex', 'marital_status', 'birth_year', 'branch_code',\n",
        "        'occupation_code', 'occupation_category_code', 'P5DA', 'RIBP', '8NN1',\n",
        "        '7POT', '66FJ', 'GYSR', 'SOP4', 'RVSZ', 'PYUQ', 'LJR9', 'N2MW', 'AHXO',\n",
        "        'BSTQ', 'FM3X', 'K6QO', 'QBOL', 'JWFN', 'JZ9D', 'J9JW', 'GHYX', 'ECY3', 'product_pred', 'target']\n",
        "\n",
        "  np_data_test = []\n",
        "  answ_test = []\n",
        "  test_columns = test.columns\n",
        "  for v in tqdm(test.values):\n",
        "    info = v[:8]\n",
        "    binary = v[8:]\n",
        "    index_n = [k for k, i in enumerate(binary) if i == 1]\n",
        "    for k in range(len(binary)):\n",
        "      if k not in index_n:\n",
        "        np_data_test.append(list(info) + list(binary) + [test_columns[8+k]])\n",
        "\n",
        "  df_data_test = pd.DataFrame(np_data_test)\n",
        "  df_data_test.columns = ['ID', 'join_date', 'sex', 'marital_status', 'birth_year', 'branch_code',\n",
        "        'occupation_code', 'occupation_category_code', 'P5DA', 'RIBP', '8NN1',\n",
        "        '7POT', '66FJ', 'GYSR', 'SOP4', 'RVSZ', 'PYUQ', 'LJR9', 'N2MW', 'AHXO',\n",
        "        'BSTQ', 'FM3X', 'K6QO', 'QBOL', 'JWFN', 'JZ9D', 'J9JW', 'GHYX', 'ECY3', 'product_pred']\n",
        "\n",
        "  df_data['date1'] = df_data['join_date'].apply(lambda x: x.split('/')[0] if (x == x) else np.nan)\n",
        "  df_data['date2'] = df_data['join_date'].apply(lambda x: x.split('/')[1] if (x == x) else np.nan)\n",
        "  df_data['date3'] = df_data['join_date'].apply(lambda x: x.split('/')[2] if (x == x) else np.nan)\n",
        "\n",
        "  df_data_test['date1'] = df_data_test['join_date'].apply(lambda x: x.split('/')[0] if (x == x) else np.nan)\n",
        "  df_data_test['date2'] = df_data_test['join_date'].apply(lambda x: x.split('/')[1] if (x == x) else np.nan)\n",
        "  df_data_test['date3'] = df_data_test['join_date'].apply(lambda x: x.split('/')[2] if (x == x) else np.nan)\n",
        "\n",
        "  ## 1 - join date feature engineering \n",
        "  df_data.join_date = pd.to_datetime(df_data.join_date, \n",
        "                                  #format=\"%Y/%m%d\"\n",
        "                                  )\n",
        "  df_data_test.join_date = pd.to_datetime(df_data_test.join_date,\n",
        "                                  #format=\"%Y-%m-%d\"\n",
        "  )\n",
        "  df_data.join_date = pd.to_datetime(df_data.join_date, format=\"%Y/%m%d\")\n",
        "  df_data_test.join_date = pd.to_datetime(df_data_test.join_date, format=\"%Y-%m-%d\")\n",
        "\n",
        "  df_data['day_of_week'] = df_data['join_date'].dt.dayofweek\n",
        "  df_data['day_of_week_name'] = df_data['join_date'].dt.day_name()\n",
        "  df_data['age'] = np.abs(df_data['join_date'].dt.year - df_data['birth_year'])\n",
        "\n",
        "  df_data_test['day_of_week'] = df_data_test['join_date'].dt.dayofweek\n",
        "  df_data_test['day_of_week_name'] = df_data_test['join_date'].dt.day_name()\n",
        "  df_data_test['age'] = np.abs( df_data_test['join_date'].dt.year - df_data_test['birth_year'])\n",
        "\n",
        "\n",
        "\n",
        "  # new\n",
        "  df_data = process(df_data)\n",
        "  df_data_test = process(df_data_test)\n",
        "\n",
        "\n",
        "  for col in ['sex', 'marital_status', 'branch_code', 'occupation_code',\n",
        "            'occupation_category_code','day_of_week_name','join_date','product_pred']:\n",
        "        df_data[col] = df_data[col].astype('object')\n",
        "        df_data_test[col] = df_data_test[col].astype('object')\n",
        "  print('---------------------------------------------------------------------------------------------')\n",
        "  print('df_data shape : ' , df_data.shape,'df_data_test shape : ' , df_data_test.shape)\n",
        "  #df_data shape :  (1298055, 45) df_data_test shape :  (197147, 44)\n",
        "  print('---------------------------------------------------------------------------------------------')\n",
        "##########################################################################################################################################\n",
        "\n",
        "  train = df_data\n",
        "  test = df_data_test\n",
        "  df_answer = df_data_test[['ID', 'product_pred']]  \n",
        "  \n",
        "  fts = [x for x in df_data.columns if x not in ['IS_748L', 'IS_T4MS', 'IS_33_34_to_38',\n",
        "       'IS_1993_1982_1984_and_T4MS', 'IS_month_4_5_and_T4MS'] +['ID', 'target', 'ID X PCODE','date'] ]\n",
        "    \n",
        "  from sklearn import preprocessing\n",
        "\n",
        "  from sklearn import preprocessing\n",
        "\n",
        "  for f in ['sex', 'marital_status', 'branch_code', 'occupation_code',\n",
        "            'occupation_category_code','day_of_week_name','join_date','product_pred']:\n",
        "      \n",
        "          lbl = preprocessing.LabelEncoder()\n",
        "          lbl.fit(list(train[f].values) + list(test[f].values))\n",
        "          train[f] = lbl.transform(list(train[f].values))\n",
        "          test[f] = lbl.transform(list(test[f].values))   \n",
        "\n",
        "  import lightgbm as lgb\n",
        "\n",
        "  trn_data = lgb.Dataset(train[fts], label=train['target'], categorical_feature=['branch_code','occupation_code', 'occupation_category_code']) \n",
        "\n",
        "  print(15 * '+')\n",
        "  print('Start Training ....')\n",
        "  \n",
        "\n",
        "  lgb_model = lgb.train(param, trn_data, 1200)\n",
        "\n",
        "\n",
        "\n",
        "\n",
        "  \n",
        "\n",
        "  \n",
        "\n",
        "  preds_proba = lgb_model.predict(test[fts],num_iteration=lgb_model.best_iteration)\n",
        "\n",
        "  df_answer['target'] = preds_proba\n",
        "  df_answer['ID X PCODE'] = df_answer['ID'] + ' X ' + df_answer['product_pred']\n",
        "  df_answer.drop(['ID', 'product_pred'], axis=1, inplace=True)\n",
        "  df_answer.rename(columns={'target':'Label'}, inplace=True)\n",
        "  df_answer = submission[submission['ID X PCODE'].isin(list(set(list(submission['ID X PCODE'])) - set(list(df_answer['ID X PCODE']))))].append(df_answer)\n",
        "  df_answer.reset_index(drop=True, inplace=True)\n",
        "  df_answer.to_csv(name, index=False)"
      ],
      "execution_count": 8,
      "outputs": [
        {
          "output_type": "stream",
          "text": [
            "  2%|▏         | 391/23305 [00:00<00:05, 3907.02it/s]"
          ],
          "name": "stderr"
        },
        {
          "output_type": "stream",
          "text": [
            "========================================\n",
            " FOLD 1 / 5 \n"
          ],
          "name": "stdout"
        },
        {
          "output_type": "stream",
          "text": [
            "100%|██████████| 23305/23305 [00:07<00:00, 3034.29it/s]\n",
            "100%|██████████| 13306/13306 [00:01<00:00, 8814.11it/s]\n"
          ],
          "name": "stderr"
        },
        {
          "output_type": "stream",
          "text": [
            "---------------------------------------------------------------------------------------------\n",
            "df_data shape :  (1037829, 44) df_data_test shape :  (260226, 43)\n",
            "---------------------------------------------------------------------------------------------\n",
            "+++++++++++++++\n",
            "Start Training ....\n"
          ],
          "name": "stdout"
        },
        {
          "output_type": "stream",
          "text": [
            "  2%|▏         | 419/23305 [00:00<00:05, 4182.85it/s]"
          ],
          "name": "stderr"
        },
        {
          "output_type": "stream",
          "text": [
            "========================================\n",
            " FOLD 1 / 5 \n"
          ],
          "name": "stdout"
        },
        {
          "output_type": "stream",
          "text": [
            "100%|██████████| 23305/23305 [00:06<00:00, 3400.58it/s]\n",
            "100%|██████████| 13237/13237 [00:01<00:00, 9065.37it/s]\n"
          ],
          "name": "stderr"
        },
        {
          "output_type": "stream",
          "text": [
            "---------------------------------------------------------------------------------------------\n",
            "df_data shape :  (1038970, 44) df_data_test shape :  (259085, 43)\n",
            "---------------------------------------------------------------------------------------------\n",
            "+++++++++++++++\n",
            "Start Training ....\n"
          ],
          "name": "stdout"
        },
        {
          "output_type": "stream",
          "text": [
            "  1%|▏         | 294/23306 [00:00<00:07, 2925.93it/s]"
          ],
          "name": "stderr"
        },
        {
          "output_type": "stream",
          "text": [
            "========================================\n",
            " FOLD 1 / 5 \n"
          ],
          "name": "stdout"
        },
        {
          "output_type": "stream",
          "text": [
            "100%|██████████| 23306/23306 [00:08<00:00, 2859.03it/s]\n",
            "100%|██████████| 13158/13158 [00:01<00:00, 9177.38it/s]\n"
          ],
          "name": "stderr"
        },
        {
          "output_type": "stream",
          "text": [
            "---------------------------------------------------------------------------------------------\n",
            "df_data shape :  (1040173, 44) df_data_test shape :  (257882, 43)\n",
            "---------------------------------------------------------------------------------------------\n",
            "+++++++++++++++\n",
            "Start Training ....\n"
          ],
          "name": "stdout"
        },
        {
          "output_type": "stream",
          "text": [
            "  2%|▏         | 355/23306 [00:00<00:06, 3543.52it/s]"
          ],
          "name": "stderr"
        },
        {
          "output_type": "stream",
          "text": [
            "========================================\n",
            " FOLD 1 / 5 \n"
          ],
          "name": "stdout"
        },
        {
          "output_type": "stream",
          "text": [
            "100%|██████████| 23306/23306 [00:06<00:00, 3377.41it/s]\n",
            "100%|██████████| 13289/13289 [00:01<00:00, 8657.19it/s]\n"
          ],
          "name": "stderr"
        },
        {
          "output_type": "stream",
          "text": [
            "---------------------------------------------------------------------------------------------\n",
            "df_data shape :  (1038134, 44) df_data_test shape :  (259921, 43)\n",
            "---------------------------------------------------------------------------------------------\n",
            "+++++++++++++++\n",
            "Start Training ....\n"
          ],
          "name": "stdout"
        },
        {
          "output_type": "stream",
          "text": [
            "\r  0%|          | 0/23306 [00:00<?, ?it/s]"
          ],
          "name": "stderr"
        },
        {
          "output_type": "stream",
          "text": [
            "========================================\n",
            " FOLD 1 / 5 \n"
          ],
          "name": "stdout"
        },
        {
          "output_type": "stream",
          "text": [
            "100%|██████████| 23306/23306 [00:07<00:00, 3303.54it/s]\n",
            "100%|██████████| 13363/13363 [00:01<00:00, 12363.41it/s]\n"
          ],
          "name": "stderr"
        },
        {
          "output_type": "stream",
          "text": [
            "---------------------------------------------------------------------------------------------\n",
            "df_data shape :  (1037114, 44) df_data_test shape :  (260941, 43)\n",
            "---------------------------------------------------------------------------------------------\n",
            "+++++++++++++++\n",
            "Start Training ....\n"
          ],
          "name": "stdout"
        },
        {
          "output_type": "stream",
          "text": [
            "  1%|          | 263/29132 [00:00<00:11, 2622.23it/s]"
          ],
          "name": "stderr"
        },
        {
          "output_type": "stream",
          "text": [
            "========================================\n",
            " FOLD 1 / 5 \n"
          ],
          "name": "stdout"
        },
        {
          "output_type": "stream",
          "text": [
            "100%|██████████| 29132/29132 [00:11<00:00, 2631.73it/s]\n",
            "100%|██████████| 10000/10000 [00:00<00:00, 11978.65it/s]\n"
          ],
          "name": "stderr"
        },
        {
          "output_type": "stream",
          "text": [
            "---------------------------------------------------------------------------------------------\n",
            "df_data shape :  (1298055, 44) df_data_test shape :  (197147, 43)\n",
            "---------------------------------------------------------------------------------------------\n",
            "+++++++++++++++\n",
            "Start Training ....\n"
          ],
          "name": "stdout"
        }
      ]
    },
    {
      "cell_type": "code",
      "metadata": {
        "id": "1wc1BruczUMB",
        "colab_type": "code",
        "colab": {
          "base_uri": "https://localhost:8080/",
          "height": 34
        },
        "outputId": "f54927ed-d2df-443a-89fb-c3a10418b111"
      },
      "source": [
        "from google.colab import drive\n",
        "drive.mount('/content/drive')"
      ],
      "execution_count": 9,
      "outputs": [
        {
          "output_type": "stream",
          "text": [
            "Mounted at /content/drive\n"
          ],
          "name": "stdout"
        }
      ]
    },
    {
      "cell_type": "code",
      "metadata": {
        "id": "vKGfrWcaDK43",
        "colab_type": "code",
        "colab": {}
      },
      "source": [
        "!mkdir '/content/drive/My Drive/Zimnat/STACK_LGBM_BASELINE_2'"
      ],
      "execution_count": 10,
      "outputs": []
    },
    {
      "cell_type": "code",
      "metadata": {
        "id": "ZK078y73zUOi",
        "colab_type": "code",
        "colab": {}
      },
      "source": [
        "!cp 1_fold0.csv  '/content/drive/My Drive/Zimnat/STACK_LGBM_BASELINE_2'\n",
        "!cp 1_fold1.csv  '/content/drive/My Drive/Zimnat/STACK_LGBM_BASELINE_2'\n",
        "!cp 1_fold2.csv  '/content/drive/My Drive/Zimnat/STACK_LGBM_BASELINE_2'\n",
        "!cp 1_fold3.csv  '/content/drive/My Drive/Zimnat/STACK_LGBM_BASELINE_2'\n",
        "!cp 1_fold4.csv  '/content/drive/My Drive/Zimnat/STACK_LGBM_BASELINE_2'\n",
        "!cp 1_main.csv  '/content/drive/My Drive/Zimnat/STACK_LGBM_BASELINE_2'"
      ],
      "execution_count": 11,
      "outputs": []
    },
    {
      "cell_type": "code",
      "metadata": {
        "id": "m47j_ml9zePm",
        "colab_type": "code",
        "colab": {}
      },
      "source": [
        ""
      ],
      "execution_count": null,
      "outputs": []
    }
  ]
}