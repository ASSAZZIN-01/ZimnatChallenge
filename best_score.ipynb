{
  "nbformat": 4,
  "nbformat_minor": 0,
  "metadata": {
    "colab": {
      "name": "best_score.ipynb",
      "provenance": [],
      "include_colab_link": true
    },
    "kernelspec": {
      "name": "python3",
      "display_name": "Python 3"
    }
  },
  "cells": [
    {
      "cell_type": "markdown",
      "metadata": {
        "id": "view-in-github",
        "colab_type": "text"
      },
      "source": [
        "<a href=\"https://colab.research.google.com/github/Az-Ks/ZimnatChallenge/blob/master/best_score.ipynb\" target=\"_parent\"><img src=\"https://colab.research.google.com/assets/colab-badge.svg\" alt=\"Open In Colab\"/></a>"
      ]
    },
    {
      "cell_type": "code",
      "metadata": {
        "id": "-wnDbZhdJIac",
        "colab_type": "code",
        "colab": {}
      },
      "source": [
        "import pandas as pd\n",
        "import warnings\n",
        "warnings.simplefilter('ignore') \n",
        "\n",
        "\n",
        "binary_stack = pd.read_csv('/content/Final_version_Binary_Stacking.csv')\n",
        "multiClass_stack_7 = pd.read_csv('/content/finale_version_multiClass_7Models.csv')\n",
        "multiClass_stack_3 = pd.read_csv('/content/finale_version_multiClass_stack.csv')\n",
        "best_ronny = pd.read_csv('/content/best.csv')\n",
        "\n",
        "binary_stack=binary_stack.sort_values('ID X PCODE').reset_index(drop=True)\n",
        "multiClass_stack_7=multiClass_stack_7.sort_values('ID X PCODE').reset_index(drop=True)\n",
        "best_ronny=best_ronny.sort_values('ID X PCODE').reset_index(drop=True)\n",
        "multiClass_stack_3=multiClass_stack_3.sort_values('ID X PCODE').reset_index(drop=True)"
      ],
      "execution_count": 1,
      "outputs": []
    },
    {
      "cell_type": "code",
      "metadata": {
        "id": "XihiIsMJKL4p",
        "colab_type": "code",
        "colab": {}
      },
      "source": [
        "blend_without_crx = binary_stack.copy()\n",
        "\n",
        "\n",
        "blend_without_crx['Label'] = (multiClass_stack_7['Label']*0.65 + multiClass_stack_3['Label']*0.1 + best_ronny['Label']*0.25)*0.85 + binary_stack['Label']*0.15"
      ],
      "execution_count": 3,
      "outputs": []
    },
    {
      "cell_type": "code",
      "metadata": {
        "id": "1jf4wH5nKqLr",
        "colab_type": "code",
        "colab": {}
      },
      "source": [
        "blend_without_crx.to_csv('best_score.csv',index=False)"
      ],
      "execution_count": 4,
      "outputs": []
    },
    {
      "cell_type": "code",
      "metadata": {
        "id": "ZgCCbnqJFU-j",
        "colab_type": "code",
        "colab": {}
      },
      "source": [
        ""
      ],
      "execution_count": null,
      "outputs": []
    }
  ]
}